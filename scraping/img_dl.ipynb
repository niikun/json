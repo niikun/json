{
 "cells": [
  {
   "cell_type": "code",
   "execution_count": 68,
   "metadata": {},
   "outputs": [],
   "source": [
    "import json, requests,time, os\n",
    "from bs4 import BeautifulSoup\n",
    "from matplotlib import pyplot as plt\n",
    "from PIL import Image"
   ]
  },
  {
   "cell_type": "code",
   "execution_count": 69,
   "metadata": {},
   "outputs": [
    {
     "name": "stdout",
     "output_type": "stream",
     "text": [
      "https://uta.pw/shodou/index.php?article&show&id=7110\n"
     ]
    }
   ],
   "source": [
    "BASE_URL = \"https://uta.pw/shodou/index.php?article&show&id=\"\n",
    "id = 7110\n",
    "\n",
    "URL = BASE_URL + str(id)\n",
    "\n",
    "print(URL)"
   ]
  },
  {
   "cell_type": "code",
   "execution_count": 70,
   "metadata": {},
   "outputs": [],
   "source": [
    "res = requests.get(URL)\n",
    "soup = BeautifulSoup(res.text,'html.parser')\n",
    "\n",
    "img_id = str(soup.find(\"img\"))"
   ]
  },
  {
   "cell_type": "code",
   "execution_count": 71,
   "metadata": {},
   "outputs": [
    {
     "name": "stdout",
     "output_type": "stream",
     "text": [
      "img/11/7110.png\n"
     ]
    }
   ],
   "source": [
    "img_url_id = img_id.split(\"=\")[1][1:-2]\n",
    "print(img_url_id[:-1])"
   ]
  },
  {
   "cell_type": "code",
   "execution_count": 72,
   "metadata": {},
   "outputs": [
    {
     "name": "stdout",
     "output_type": "stream",
     "text": [
      "https://uta.pw/shodou/img/11/7110.png\n"
     ]
    }
   ],
   "source": [
    "img_base_url = \"https://uta.pw/shodou/\"\n",
    "img_url = (img_base_url + img_url_id)[:-1]\n",
    "print(img_url)"
   ]
  },
  {
   "cell_type": "code",
   "execution_count": 77,
   "metadata": {},
   "outputs": [
    {
     "name": "stdout",
     "output_type": "stream",
     "text": [
      "images/7110.png\n"
     ]
    }
   ],
   "source": [
    "savefolder = \"images\"\n",
    "if not os.path.exists(savefolder):\n",
    "    os.makedirs(savefolder)\n",
    "img_url_id_file = img_url_id[:-1].split(\"/\")[-1]\n",
    "savepath = f\"{savefolder}/{img_url_id_file}\"\n",
    "print(savepath)\n",
    "    \n",
    "img = requests.get(img_url)\n",
    "with open(savepath,\"wb\") as f:\n",
    "    f.write(img.content)"
   ]
  },
  {
   "cell_type": "code",
   "execution_count": null,
   "metadata": {},
   "outputs": [],
   "source": []
  }
 ],
 "metadata": {
  "kernelspec": {
   "display_name": "base",
   "language": "python",
   "name": "python3"
  },
  "language_info": {
   "codemirror_mode": {
    "name": "ipython",
    "version": 3
   },
   "file_extension": ".py",
   "mimetype": "text/x-python",
   "name": "python",
   "nbconvert_exporter": "python",
   "pygments_lexer": "ipython3",
   "version": "3.10.9"
  }
 },
 "nbformat": 4,
 "nbformat_minor": 2
}
